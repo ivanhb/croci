{
 "cells": [
  {
   "cell_type": "code",
   "execution_count": 2,
   "metadata": {},
   "outputs": [],
   "source": [
    "import csv\n",
    "import matplotlib.pyplot as plt\n",
    "from matplotlib.pyplot import figure\n",
    "from matplotlib import colors as mcolors\n",
    "import os\n",
    "from datetime import datetime\n",
    "import bisect \n",
    "import re\n",
    "import numpy as np"
   ]
  },
  {
   "cell_type": "code",
   "execution_count": 3,
   "metadata": {},
   "outputs": [],
   "source": [
    "#CONSTANTS \n",
    "COLORS = dict(mcolors.BASE_COLORS, **mcolors.CSS4_COLORS)"
   ]
  },
  {
   "cell_type": "code",
   "execution_count": 6,
   "metadata": {},
   "outputs": [],
   "source": [
    "# data:  {'[[ENTITY]]':{'x':[[ARR_OF_VALS]], 'y':[[ARR_OF_VALS]] }} \n",
    "#OPTIONAL# opt: {'color': [[HEX_VAL]], 'width': [[NUMBER]]} \n",
    "#OPTIONAL# logit: False, True\n",
    "def plotLines(data,opt = {}, logit= False):\n",
    "    \n",
    "    for d in data:\n",
    "        \n",
    "        #def color\n",
    "        my_color = None\n",
    "        if 'color' in opt:\n",
    "            if d in opt['color']:\n",
    "                my_color = opt['color'][d]\n",
    "\n",
    "        #def width\n",
    "        my_width = None\n",
    "        if 'width' in opt:\n",
    "            if d in opt['width']:\n",
    "                my_width = opt['width'][d]\n",
    "                            \n",
    "        plt.plot(data[d]['x'],data[d]['y'], label=d, color=my_color, linewidth=my_width)\n",
    "        if logit:\n",
    "            plt.yscale('log')\n",
    "        plt.xticks(data[d]['x'],[item.strftime('%Y-%m') for item in data[d]['x']])\n",
    "    \n",
    "    return plt"
   ]
  },
  {
   "cell_type": "code",
   "execution_count": 7,
   "metadata": {},
   "outputs": [],
   "source": [
    "# data:  {'[[ENTITY]]':{'x':[[ARR_OF_VALS]], 'y':[[ARR_OF_VALS]] }} \n",
    "#OPTIONAL# opt: {'color': [[HEX_VAL]], 'multi': [[False, True]], 'width': [[NUMBER]]} \n",
    "#OPTIONAL# logit: False, True\n",
    "def plotBars(data,opt = {}, logit= False):\n",
    "    \n",
    "    x_groups = []\n",
    "    bars_groups = []\n",
    "    bars_legend = []\n",
    "    \n",
    "    for d_bar in data:\n",
    "            bars_legend.append(d_bar)\n",
    "            d = data[d_bar]\n",
    "            \n",
    "            #the x axis\n",
    "            for index_x in range(0,len(d['x'])):\n",
    "                x_val = d['x'][index_x]\n",
    "                if x_val not in x_groups:\n",
    "                    bisect.insort(x_groups, x_val)\n",
    "                    bars_groups.append([])\n",
    "                \n",
    "                index_in_groups = x_groups.index(x_val)\n",
    "                #insert same y val\n",
    "                bars_groups[index_in_groups].append(d['y'][index_x])\n",
    "        \n",
    "    \n",
    "    ind = np.arange(len(x_groups))    # the x locations for the groups\n",
    "    width = 0.3     # the width of the bars: can also be len(x) sequence   \n",
    "    if 'width' in opt:\n",
    "        width = opt['width']\n",
    "    fig, ax = plt.subplots()\n",
    "\n",
    "    \n",
    "    #for each x tick set all the bars\n",
    "    loop_width = width/len(bars_legend) \n",
    "    starting_from = ind - loop_width\n",
    "    for bl_index in range(0,len(bars_legend)):\n",
    "        y_vals = []\n",
    "        for g in bars_groups:\n",
    "            y_vals.append(g[bl_index])\n",
    "    \n",
    "        my_color = None\n",
    "        if 'color' in opt:\n",
    "            if bars_legend[bl_index] in opt['color']:\n",
    "                my_color = opt['color'][bars_legend[bl_index]]\n",
    "                \n",
    "        rects1 = ax.bar(starting_from, tuple(y_vals), width, color=my_color, label= bars_legend[bl_index])\n",
    "        \n",
    "        if 'multi' in opt:\n",
    "            if opt['multi'] == True:\n",
    "                if ((bl_index & 1) == 1):\n",
    "                        starting_from = starting_from + 2*loop_width \n",
    "        else:\n",
    "            starting_from = starting_from + 2*loop_width \n",
    "                \n",
    "        \n",
    "    \n",
    "    # Add some text for labels, title and custom x-axis tick labels, etc.\n",
    "    ax.set_xticks(ind)\n",
    "    #x_groups = [item.strftime('%Y-%m') for item in x_groups]\n",
    "    ax.set_xticklabels(tuple(x_groups))\n",
    "    ax.legend()\n",
    "    \n",
    "\n",
    "    return plt\n",
    "    #return plt"
   ]
  },
  {
   "cell_type": "code",
   "execution_count": null,
   "metadata": {},
   "outputs": [],
   "source": [
    "# ------------------------------------------------------------------\n",
    "# EXAMPLE (Convert it to code)"
   ]
  },
  {
   "cell_type": "markdown",
   "metadata": {},
   "source": [
    "ex_data = {\n",
    "    'A': {'x': ['1','2','3','4'], 'y': [10,20,30,40] },\n",
    "    'B': {'x': ['1','2','3','4'], 'y': [15,25,35,45] }\n",
    "}\n",
    "ex_opt = {\n",
    "    'multi': True\n",
    "}\n",
    "\n",
    "my_plt = plotBars(ex_data)\n",
    "my_plt.legend(loc='upper left', shadow=True, fontsize='large', title='Ex Chart')\n",
    "my_plt.ylabel('y-val')\n",
    "my_plt.xlabel('x-val')\n",
    "my_plt.rcParams['figure.figsize'] = (10,6)\n",
    "my_plt.show()"
   ]
  },
  {
   "cell_type": "code",
   "execution_count": null,
   "metadata": {},
   "outputs": [],
   "source": [
    "# ------------------------------------------------------------------"
   ]
  },
  {
   "cell_type": "code",
   "execution_count": null,
   "metadata": {},
   "outputs": [],
   "source": []
  },
  {
   "cell_type": "code",
   "execution_count": null,
   "metadata": {},
   "outputs": [],
   "source": []
  }
 ],
 "metadata": {
  "kernelspec": {
   "display_name": "Python 3",
   "language": "python",
   "name": "python3"
  },
  "language_info": {
   "codemirror_mode": {
    "name": "ipython",
    "version": 3
   },
   "file_extension": ".py",
   "mimetype": "text/x-python",
   "name": "python",
   "nbconvert_exporter": "python",
   "pygments_lexer": "ipython3",
   "version": "3.6.5"
  }
 },
 "nbformat": 4,
 "nbformat_minor": 2
}
